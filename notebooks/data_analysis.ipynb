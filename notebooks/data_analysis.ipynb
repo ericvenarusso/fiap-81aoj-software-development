{
 "cells": [
  {
   "cell_type": "code",
   "execution_count": 1,
   "id": "421a1280",
   "metadata": {},
   "outputs": [],
   "source": [
    "import pandas as pd\n",
    "\n",
    "import matplotlib.pyplot as plt\n",
    "import seaborn as sns"
   ]
  },
  {
   "cell_type": "code",
   "execution_count": 2,
   "id": "9737800c",
   "metadata": {},
   "outputs": [],
   "source": [
    "df = pd.read_csv(\"../data/train.csv\")"
   ]
  },
  {
   "cell_type": "markdown",
   "id": "c3eb29dc",
   "metadata": {},
   "source": [
    "# Análise de Dados"
   ]
  },
  {
   "cell_type": "markdown",
   "id": "694884b4",
   "metadata": {},
   "source": [
    "<img src=\"https://cdna.artstation.com/p/assets/images/images/012/065/302/large/nathaniel-himawan-splash-progress-finale-font-post.jpg?1532869065\" width=600 height=400></img>"
   ]
  },
  {
   "cell_type": "markdown",
   "id": "e569cd07",
   "metadata": {},
   "source": [
    "Neste notebook iremos fazer uma análise de dados sobre o jogo **Gods Unchained**, tendo como principal objetivo conhecer os dados para que seja possível entender o que faz um card ser considerado de **early** ou **late** game.\n",
    "\n",
    "Para isso precisamos entender o que é ser um card de early ou late game.\n",
    "* early: São cards que são mais forte nos primeiros turnos do jogo.\n",
    "* late: São cards que são mais fortes no turnos finais do jogo."
   ]
  },
  {
   "cell_type": "markdown",
   "id": "8efdb611",
   "metadata": {},
   "source": [
    "## Tabela de Conteúdo"
   ]
  },
  {
   "cell_type": "markdown",
   "id": "6a845aed",
   "metadata": {},
   "source": [
    "1. [DataFrame](#dataframe)\n",
    "    * [Número de Linhas e Colunas](#dataframe_num_lc)\n",
    "    * [Tipo dos Dados](#dataframe_dtypes)\n",
    "    * [Valores Nulos](#dataframe_null)\n",
    "2. [Váriaveis Númericas](#num_vars)\n",
    "    * [Mana](#mana)\n",
    "    * [Attack](#attack)\n",
    "    * [Health](#health)\n",
    "3. [Váriaveis Categóricas](#cat_vars)\n",
    "    * [Type](#type)\n",
    "    * [God](#god)\n",
    "4. [Váriavel Target](#target_var)\n",
    "5. [Conclusão](#conclusion)"
   ]
  },
  {
   "cell_type": "markdown",
   "id": "442ea0e2",
   "metadata": {},
   "source": [
    "## DataFrame <a name=\"dataframe\"></a>"
   ]
  },
  {
   "cell_type": "markdown",
   "id": "cfbde027",
   "metadata": {},
   "source": [
    "Iremos começar fazendo uma exploração de validação dos dados."
   ]
  },
  {
   "cell_type": "code",
   "execution_count": 3,
   "id": "59b780e6",
   "metadata": {},
   "outputs": [
    {
     "data": {
      "text/html": [
       "<div>\n",
       "<style scoped>\n",
       "    .dataframe tbody tr th:only-of-type {\n",
       "        vertical-align: middle;\n",
       "    }\n",
       "\n",
       "    .dataframe tbody tr th {\n",
       "        vertical-align: top;\n",
       "    }\n",
       "\n",
       "    .dataframe thead th {\n",
       "        text-align: right;\n",
       "    }\n",
       "</style>\n",
       "<table border=\"1\" class=\"dataframe\">\n",
       "  <thead>\n",
       "    <tr style=\"text-align: right;\">\n",
       "      <th></th>\n",
       "      <th>id</th>\n",
       "      <th>name</th>\n",
       "      <th>mana</th>\n",
       "      <th>attack</th>\n",
       "      <th>health</th>\n",
       "      <th>type</th>\n",
       "      <th>god</th>\n",
       "      <th>strategy</th>\n",
       "    </tr>\n",
       "  </thead>\n",
       "  <tbody>\n",
       "    <tr>\n",
       "      <th>0</th>\n",
       "      <td>1118</td>\n",
       "      <td>Firewine</td>\n",
       "      <td>5</td>\n",
       "      <td>0</td>\n",
       "      <td>0</td>\n",
       "      <td>spell</td>\n",
       "      <td>nature</td>\n",
       "      <td>early</td>\n",
       "    </tr>\n",
       "    <tr>\n",
       "      <th>1</th>\n",
       "      <td>1036</td>\n",
       "      <td>Leyhoard Hatchling</td>\n",
       "      <td>10</td>\n",
       "      <td>2</td>\n",
       "      <td>1</td>\n",
       "      <td>creature</td>\n",
       "      <td>magic</td>\n",
       "      <td>late</td>\n",
       "    </tr>\n",
       "    <tr>\n",
       "      <th>2</th>\n",
       "      <td>244</td>\n",
       "      <td>Aetherfuel Alchemist</td>\n",
       "      <td>6</td>\n",
       "      <td>4</td>\n",
       "      <td>4</td>\n",
       "      <td>creature</td>\n",
       "      <td>neutral</td>\n",
       "      <td>late</td>\n",
       "    </tr>\n",
       "    <tr>\n",
       "      <th>3</th>\n",
       "      <td>215</td>\n",
       "      <td>Millenium Matryoshka</td>\n",
       "      <td>4</td>\n",
       "      <td>2</td>\n",
       "      <td>2</td>\n",
       "      <td>creature</td>\n",
       "      <td>neutral</td>\n",
       "      <td>late</td>\n",
       "    </tr>\n",
       "    <tr>\n",
       "      <th>4</th>\n",
       "      <td>87013</td>\n",
       "      <td>Poison Peddler</td>\n",
       "      <td>4</td>\n",
       "      <td>1</td>\n",
       "      <td>3</td>\n",
       "      <td>creature</td>\n",
       "      <td>neutral</td>\n",
       "      <td>late</td>\n",
       "    </tr>\n",
       "  </tbody>\n",
       "</table>\n",
       "</div>"
      ],
      "text/plain": [
       "      id                  name  mana  attack  health      type      god  \\\n",
       "0   1118              Firewine     5       0       0     spell   nature   \n",
       "1   1036    Leyhoard Hatchling    10       2       1  creature    magic   \n",
       "2    244  Aetherfuel Alchemist     6       4       4  creature  neutral   \n",
       "3    215  Millenium Matryoshka     4       2       2  creature  neutral   \n",
       "4  87013        Poison Peddler     4       1       3  creature  neutral   \n",
       "\n",
       "  strategy  \n",
       "0    early  \n",
       "1     late  \n",
       "2     late  \n",
       "3     late  \n",
       "4     late  "
      ]
     },
     "execution_count": 3,
     "metadata": {},
     "output_type": "execute_result"
    }
   ],
   "source": [
    "df.head()"
   ]
  },
  {
   "cell_type": "markdown",
   "id": "3c1e582e",
   "metadata": {},
   "source": [
    "### Número de Linhas e Colunas <a name=\"dataframe_num_lc\"></a>"
   ]
  },
  {
   "cell_type": "code",
   "execution_count": 4,
   "id": "dd18dc63",
   "metadata": {},
   "outputs": [
    {
     "data": {
      "text/plain": [
       "(788, 8)"
      ]
     },
     "execution_count": 4,
     "metadata": {},
     "output_type": "execute_result"
    }
   ],
   "source": [
    "df.shape"
   ]
  },
  {
   "cell_type": "markdown",
   "id": "2ccef8fd",
   "metadata": {},
   "source": [
    "### Tipo dos Dados <a name=\"dataframe_dtypes\"></a>"
   ]
  },
  {
   "cell_type": "code",
   "execution_count": 5,
   "id": "662db6fa",
   "metadata": {},
   "outputs": [
    {
     "data": {
      "text/plain": [
       "id           int64\n",
       "name        object\n",
       "mana         int64\n",
       "attack       int64\n",
       "health       int64\n",
       "type        object\n",
       "god         object\n",
       "strategy    object\n",
       "dtype: object"
      ]
     },
     "execution_count": 5,
     "metadata": {},
     "output_type": "execute_result"
    }
   ],
   "source": [
    "df.dtypes"
   ]
  },
  {
   "cell_type": "markdown",
   "id": "7d0da10d",
   "metadata": {},
   "source": [
    "### Valores Nulos <a name=\"dataframe_null\"></a>"
   ]
  },
  {
   "cell_type": "code",
   "execution_count": 6,
   "id": "419f135c",
   "metadata": {},
   "outputs": [
    {
     "data": {
      "text/plain": [
       "id          0\n",
       "name        0\n",
       "mana        0\n",
       "attack      0\n",
       "health      0\n",
       "type        0\n",
       "god         0\n",
       "strategy    0\n",
       "dtype: int64"
      ]
     },
     "execution_count": 6,
     "metadata": {},
     "output_type": "execute_result"
    }
   ],
   "source": [
    "df.isna().sum()"
   ]
  },
  {
   "cell_type": "markdown",
   "id": "c4628466",
   "metadata": {},
   "source": [
    "## Váriaveis Númericas <a name=\"num_vars\"></a>"
   ]
  },
  {
   "cell_type": "markdown",
   "id": "96a4e4d9",
   "metadata": {},
   "source": [
    "Faremos agora a exploração das váriaveis númericas para conhecer melhor os dados."
   ]
  },
  {
   "cell_type": "markdown",
   "id": "6ec29638",
   "metadata": {},
   "source": [
    "## Mana <a name=\"mana\"></a>"
   ]
  },
  {
   "cell_type": "markdown",
   "id": "f0f2df54",
   "metadata": {},
   "source": [
    "A váriavel mana indica o custo necessário para colocar um card no jogo. \n",
    "\n",
    "Exemplos de ganho de mana:\n",
    "* Passagem de turno\n",
    "* Ativação de Card"
   ]
  },
  {
   "cell_type": "code",
   "execution_count": 7,
   "id": "65500ae5",
   "metadata": {},
   "outputs": [
    {
     "data": {
      "text/plain": [
       "<Figure size 720x432 with 0 Axes>"
      ]
     },
     "metadata": {},
     "output_type": "display_data"
    },
    {
     "data": {
      "image/png": "[encoded data removed]",
      "text/plain": [
       "<Figure size 360x360 with 1 Axes>"
      ]
     },
     "metadata": {
      "needs_background": "light"
     },
     "output_type": "display_data"
    }
   ],
   "source": [
    "plt.figure(figsize=(10,6))\n",
    "sns.displot(df, x=\"mana\")\n",
    "plt.title(\"Distribuição da váriavel Mana\")\n",
    "plt.show()"
   ]
  },
  {
   "cell_type": "code",
   "execution_count": 8,
   "id": "a17cbb85",
   "metadata": {},
   "outputs": [
    {
     "name": "stderr",
     "output_type": "stream",
     "text": [
      "/opt/anaconda3/envs/guca/lib/python3.8/site-packages/seaborn/_decorators.py:36: FutureWarning: Pass the following variable as a keyword arg: x. From version 0.12, the only valid positional argument will be `data`, and passing other arguments without an explicit keyword will result in an error or misinterpretation.\n",
      "  warnings.warn(\n"
     ]
    },
    {
     "data": {
      "image/png": "[encoded data removed]",
      "text/plain": [
       "<Figure size 720x432 with 1 Axes>"
      ]
     },
     "metadata": {
      "needs_background": "light"
     },
     "output_type": "display_data"
    }
   ],
   "source": [
    "plt.figure(figsize=(10,6))\n",
    "sns.boxplot(df['mana'])\n",
    "plt.title(\"Boxplot - Mana\")\n",
    "plt.show()"
   ]
  },
  {
   "cell_type": "markdown",
   "id": "a2997d5b",
   "metadata": {},
   "source": [
    "Podemos ver que a maior parte dos cards custam aproximadamente 0 a 6 de mana, com a presença de alguns outliers que possuem o custo maior que 10. "
   ]
  },
  {
   "cell_type": "code",
   "execution_count": 9,
   "id": "1dc2f8b6",
   "metadata": {},
   "outputs": [
    {
     "data": {
      "text/html": [
       "<div>\n",
       "<style scoped>\n",
       "    .dataframe tbody tr th:only-of-type {\n",
       "        vertical-align: middle;\n",
       "    }\n",
       "\n",
       "    .dataframe tbody tr th {\n",
       "        vertical-align: top;\n",
       "    }\n",
       "\n",
       "    .dataframe thead th {\n",
       "        text-align: right;\n",
       "    }\n",
       "</style>\n",
       "<table border=\"1\" class=\"dataframe\">\n",
       "  <thead>\n",
       "    <tr style=\"text-align: right;\">\n",
       "      <th></th>\n",
       "      <th>id</th>\n",
       "      <th>name</th>\n",
       "      <th>mana</th>\n",
       "      <th>attack</th>\n",
       "      <th>health</th>\n",
       "      <th>type</th>\n",
       "      <th>god</th>\n",
       "      <th>strategy</th>\n",
       "    </tr>\n",
       "  </thead>\n",
       "  <tbody>\n",
       "    <tr>\n",
       "      <th>658</th>\n",
       "      <td>225</td>\n",
       "      <td>Deathwish Thanetar</td>\n",
       "      <td>16</td>\n",
       "      <td>4</td>\n",
       "      <td>4</td>\n",
       "      <td>creature</td>\n",
       "      <td>neutral</td>\n",
       "      <td>late</td>\n",
       "    </tr>\n",
       "    <tr>\n",
       "      <th>767</th>\n",
       "      <td>183</td>\n",
       "      <td>Leyline Djinn</td>\n",
       "      <td>11</td>\n",
       "      <td>4</td>\n",
       "      <td>4</td>\n",
       "      <td>creature</td>\n",
       "      <td>neutral</td>\n",
       "      <td>late</td>\n",
       "    </tr>\n",
       "  </tbody>\n",
       "</table>\n",
       "</div>"
      ],
      "text/plain": [
       "      id                name  mana  attack  health      type      god strategy\n",
       "658  225  Deathwish Thanetar    16       4       4  creature  neutral     late\n",
       "767  183       Leyline Djinn    11       4       4  creature  neutral     late"
      ]
     },
     "execution_count": 9,
     "metadata": {},
     "output_type": "execute_result"
    }
   ],
   "source": [
    "df[df[\"mana\"] > 10]"
   ]
  },
  {
   "cell_type": "markdown",
   "id": "57464ab8",
   "metadata": {},
   "source": [
    "### Mana vs Strategy"
   ]
  },
  {
   "cell_type": "code",
   "execution_count": 10,
   "id": "f9a14485",
   "metadata": {},
   "outputs": [
    {
     "data": {
      "text/plain": [
       "<Figure size 720x432 with 0 Axes>"
      ]
     },
     "metadata": {},
     "output_type": "display_data"
    },
    {
     "data": {
      "image/png": "[encoded data removed]",
      "text/plain": [
       "<Figure size 421.125x360 with 1 Axes>"
      ]
     },
     "metadata": {
      "needs_background": "light"
     },
     "output_type": "display_data"
    }
   ],
   "source": [
    "plt.figure(figsize=(10,6))\n",
    "sns.displot(df, x=\"mana\", hue=\"strategy\")\n",
    "plt.title(\"Mana vs Strategy\")\n",
    "plt.show()"
   ]
  },
  {
   "cell_type": "code",
   "execution_count": 11,
   "id": "ae3ae2b1",
   "metadata": {},
   "outputs": [
    {
     "data": {
      "text/html": [
       "<div>\n",
       "<style scoped>\n",
       "    .dataframe tbody tr th:only-of-type {\n",
       "        vertical-align: middle;\n",
       "    }\n",
       "\n",
       "    .dataframe tbody tr th {\n",
       "        vertical-align: top;\n",
       "    }\n",
       "\n",
       "    .dataframe thead tr th {\n",
       "        text-align: left;\n",
       "    }\n",
       "\n",
       "    .dataframe thead tr:last-of-type th {\n",
       "        text-align: right;\n",
       "    }\n",
       "</style>\n",
       "<table border=\"1\" class=\"dataframe\">\n",
       "  <thead>\n",
       "    <tr>\n",
       "      <th></th>\n",
       "      <th colspan=\"4\" halign=\"left\">mana</th>\n",
       "    </tr>\n",
       "    <tr>\n",
       "      <th></th>\n",
       "      <th>mean</th>\n",
       "      <th>median</th>\n",
       "      <th>min</th>\n",
       "      <th>max</th>\n",
       "    </tr>\n",
       "    <tr>\n",
       "      <th>strategy</th>\n",
       "      <th></th>\n",
       "      <th></th>\n",
       "      <th></th>\n",
       "      <th></th>\n",
       "    </tr>\n",
       "  </thead>\n",
       "  <tbody>\n",
       "    <tr>\n",
       "      <th>early</th>\n",
       "      <td>2.342593</td>\n",
       "      <td>2.0</td>\n",
       "      <td>0</td>\n",
       "      <td>7</td>\n",
       "    </tr>\n",
       "    <tr>\n",
       "      <th>late</th>\n",
       "      <td>5.064607</td>\n",
       "      <td>5.0</td>\n",
       "      <td>1</td>\n",
       "      <td>16</td>\n",
       "    </tr>\n",
       "  </tbody>\n",
       "</table>\n",
       "</div>"
      ],
      "text/plain": [
       "              mana               \n",
       "              mean median min max\n",
       "strategy                         \n",
       "early     2.342593    2.0   0   7\n",
       "late      5.064607    5.0   1  16"
      ]
     },
     "execution_count": 11,
     "metadata": {},
     "output_type": "execute_result"
    }
   ],
   "source": [
    "df.groupby([\"strategy\"])\\\n",
    "  .agg({\"mana\": [\"mean\", \"median\", \"min\", \"max\"]})"
   ]
  },
  {
   "cell_type": "markdown",
   "id": "28fd758a",
   "metadata": {},
   "source": [
    "Podemos perceber que quanto menor o custo de mana mais chances de ser early e quanto maior o custo de mana mais chances de ser late."
   ]
  },
  {
   "cell_type": "markdown",
   "id": "333ece91",
   "metadata": {},
   "source": [
    "## Attack <a name=\"attack\"></a>"
   ]
  },
  {
   "cell_type": "markdown",
   "id": "620f79a6",
   "metadata": {},
   "source": [
    "A váriavel indica a força de ataque do card."
   ]
  },
  {
   "cell_type": "code",
   "execution_count": 12,
   "id": "589eb8d0",
   "metadata": {},
   "outputs": [
    {
     "data": {
      "text/plain": [
       "<Figure size 720x432 with 0 Axes>"
      ]
     },
     "metadata": {},
     "output_type": "display_data"
    },
    {
     "data": {
      "image/png": "[encoded data removed]",
      "text/plain": [
       "<Figure size 360x360 with 1 Axes>"
      ]
     },
     "metadata": {
      "needs_background": "light"
     },
     "output_type": "display_data"
    }
   ],
   "source": [
    "plt.figure(figsize=(10,6))\n",
    "sns.displot(df, x=\"attack\")\n",
    "plt.title(\"Distribuição da váriavel Attack\")\n",
    "plt.show()"
   ]
  },
  {
   "cell_type": "code",
   "execution_count": 13,
   "id": "52395f49",
   "metadata": {},
   "outputs": [
    {
     "name": "stderr",
     "output_type": "stream",
     "text": [
      "/opt/anaconda3/envs/guca/lib/python3.8/site-packages/seaborn/_decorators.py:36: FutureWarning: Pass the following variable as a keyword arg: x. From version 0.12, the only valid positional argument will be `data`, and passing other arguments without an explicit keyword will result in an error or misinterpretation.\n",
      "  warnings.warn(\n"
     ]
    },
    {
     "data": {
      "image/png": "[encoded data removed]",
      "text/plain": [
       "<Figure size 720x432 with 1 Axes>"
      ]
     },
     "metadata": {
      "needs_background": "light"
     },
     "output_type": "display_data"
    }
   ],
   "source": [
    "plt.figure(figsize=(10,6))\n",
    "sns.boxplot(df['attack'])\n",
    "plt.title(\"Boxplot - Attack\")\n",
    "plt.show()"
   ]
  },
  {
   "cell_type": "markdown",
   "id": "477a8c81",
   "metadata": {},
   "source": [
    "Podemos verificar que a maior parte dos cards tem entre 0 a 6 de ataque, com a presença de alguns outliers."
   ]
  },
  {
   "cell_type": "code",
   "execution_count": 14,
   "id": "a272eff9",
   "metadata": {},
   "outputs": [
    {
     "data": {
      "text/html": [
       "<div>\n",
       "<style scoped>\n",
       "    .dataframe tbody tr th:only-of-type {\n",
       "        vertical-align: middle;\n",
       "    }\n",
       "\n",
       "    .dataframe tbody tr th {\n",
       "        vertical-align: top;\n",
       "    }\n",
       "\n",
       "    .dataframe thead th {\n",
       "        text-align: right;\n",
       "    }\n",
       "</style>\n",
       "<table border=\"1\" class=\"dataframe\">\n",
       "  <thead>\n",
       "    <tr style=\"text-align: right;\">\n",
       "      <th></th>\n",
       "      <th>type</th>\n",
       "    </tr>\n",
       "    <tr>\n",
       "      <th>type</th>\n",
       "      <th></th>\n",
       "    </tr>\n",
       "  </thead>\n",
       "  <tbody>\n",
       "    <tr>\n",
       "      <th>creature</th>\n",
       "      <td>20</td>\n",
       "    </tr>\n",
       "    <tr>\n",
       "      <th>god power</th>\n",
       "      <td>24</td>\n",
       "    </tr>\n",
       "    <tr>\n",
       "      <th>spell</th>\n",
       "      <td>191</td>\n",
       "    </tr>\n",
       "    <tr>\n",
       "      <th>weapon</th>\n",
       "      <td>16</td>\n",
       "    </tr>\n",
       "  </tbody>\n",
       "</table>\n",
       "</div>"
      ],
      "text/plain": [
       "           type\n",
       "type           \n",
       "creature     20\n",
       "god power    24\n",
       "spell       191\n",
       "weapon       16"
      ]
     },
     "execution_count": 14,
     "metadata": {},
     "output_type": "execute_result"
    }
   ],
   "source": [
    "df_attack_0 = df[df[\"attack\"] == 0]\n",
    "df_attack_0.groupby(\"type\")\\\n",
    "           .agg({\"type\": \"count\"})"
   ]
  },
  {
   "cell_type": "code",
   "execution_count": 15,
   "id": "9e8f5e83",
   "metadata": {},
   "outputs": [
    {
     "data": {
      "text/html": [
       "<div>\n",
       "<style scoped>\n",
       "    .dataframe tbody tr th:only-of-type {\n",
       "        vertical-align: middle;\n",
       "    }\n",
       "\n",
       "    .dataframe tbody tr th {\n",
       "        vertical-align: top;\n",
       "    }\n",
       "\n",
       "    .dataframe thead th {\n",
       "        text-align: right;\n",
       "    }\n",
       "</style>\n",
       "<table border=\"1\" class=\"dataframe\">\n",
       "  <thead>\n",
       "    <tr style=\"text-align: right;\">\n",
       "      <th></th>\n",
       "      <th>type</th>\n",
       "    </tr>\n",
       "    <tr>\n",
       "      <th>type</th>\n",
       "      <th></th>\n",
       "    </tr>\n",
       "  </thead>\n",
       "  <tbody>\n",
       "    <tr>\n",
       "      <th>creature</th>\n",
       "      <td>526</td>\n",
       "    </tr>\n",
       "    <tr>\n",
       "      <th>god power</th>\n",
       "      <td>24</td>\n",
       "    </tr>\n",
       "    <tr>\n",
       "      <th>spell</th>\n",
       "      <td>191</td>\n",
       "    </tr>\n",
       "    <tr>\n",
       "      <th>weapon</th>\n",
       "      <td>47</td>\n",
       "    </tr>\n",
       "  </tbody>\n",
       "</table>\n",
       "</div>"
      ],
      "text/plain": [
       "           type\n",
       "type           \n",
       "creature    526\n",
       "god power    24\n",
       "spell       191\n",
       "weapon       47"
      ]
     },
     "execution_count": 15,
     "metadata": {},
     "output_type": "execute_result"
    }
   ],
   "source": [
    "df.groupby(\"type\")\\\n",
    "  .agg({\"type\": \"count\"})"
   ]
  },
  {
   "cell_type": "markdown",
   "id": "702f8cfb",
   "metadata": {},
   "source": [
    "Spells e God Powers possuem 0 de ataque."
   ]
  },
  {
   "cell_type": "markdown",
   "id": "f84e28c7",
   "metadata": {},
   "source": [
    "### Attack vs Strategy"
   ]
  },
  {
   "cell_type": "code",
   "execution_count": 16,
   "id": "e221041f",
   "metadata": {},
   "outputs": [
    {
     "data": {
      "text/plain": [
       "<Figure size 720x432 with 0 Axes>"
      ]
     },
     "metadata": {},
     "output_type": "display_data"
    },
    {
     "data": {
      "image/png": "[encoded data removed]",
      "text/plain": [
       "<Figure size 421.125x360 with 1 Axes>"
      ]
     },
     "metadata": {
      "needs_background": "light"
     },
     "output_type": "display_data"
    }
   ],
   "source": [
    "plt.figure(figsize=(10,6))\n",
    "sns.displot(df, x=\"attack\", hue=\"strategy\")\n",
    "plt.title(\"Attack vs Strategy\")\n",
    "plt.show()"
   ]
  },
  {
   "cell_type": "code",
   "execution_count": 17,
   "id": "7b03fc4c",
   "metadata": {},
   "outputs": [
    {
     "data": {
      "text/html": [
       "<div>\n",
       "<style scoped>\n",
       "    .dataframe tbody tr th:only-of-type {\n",
       "        vertical-align: middle;\n",
       "    }\n",
       "\n",
       "    .dataframe tbody tr th {\n",
       "        vertical-align: top;\n",
       "    }\n",
       "\n",
       "    .dataframe thead tr th {\n",
       "        text-align: left;\n",
       "    }\n",
       "\n",
       "    .dataframe thead tr:last-of-type th {\n",
       "        text-align: right;\n",
       "    }\n",
       "</style>\n",
       "<table border=\"1\" class=\"dataframe\">\n",
       "  <thead>\n",
       "    <tr>\n",
       "      <th></th>\n",
       "      <th colspan=\"4\" halign=\"left\">attack</th>\n",
       "    </tr>\n",
       "    <tr>\n",
       "      <th></th>\n",
       "      <th>mean</th>\n",
       "      <th>median</th>\n",
       "      <th>min</th>\n",
       "      <th>max</th>\n",
       "    </tr>\n",
       "    <tr>\n",
       "      <th>strategy</th>\n",
       "      <th></th>\n",
       "      <th></th>\n",
       "      <th></th>\n",
       "      <th></th>\n",
       "    </tr>\n",
       "  </thead>\n",
       "  <tbody>\n",
       "    <tr>\n",
       "      <th>early</th>\n",
       "      <td>0.752315</td>\n",
       "      <td>0.0</td>\n",
       "      <td>0</td>\n",
       "      <td>5</td>\n",
       "    </tr>\n",
       "    <tr>\n",
       "      <th>late</th>\n",
       "      <td>3.825843</td>\n",
       "      <td>3.0</td>\n",
       "      <td>0</td>\n",
       "      <td>13</td>\n",
       "    </tr>\n",
       "  </tbody>\n",
       "</table>\n",
       "</div>"
      ],
      "text/plain": [
       "            attack               \n",
       "              mean median min max\n",
       "strategy                         \n",
       "early     0.752315    0.0   0   5\n",
       "late      3.825843    3.0   0  13"
      ]
     },
     "execution_count": 17,
     "metadata": {},
     "output_type": "execute_result"
    }
   ],
   "source": [
    "df.groupby([\"strategy\"])\\\n",
    "  .agg({\"attack\": [\"mean\", \"median\", \"min\", \"max\"]})"
   ]
  },
  {
   "cell_type": "markdown",
   "id": "68e57696",
   "metadata": {},
   "source": [
    "Podemos perceber que quanto menor o ataque mais chances de ser early e quanto maior o ataque mais chances de ser late."
   ]
  },
  {
   "cell_type": "markdown",
   "id": "c2bcb243",
   "metadata": {},
   "source": [
    "## Health <a name=\"health\"></a>"
   ]
  },
  {
   "cell_type": "markdown",
   "id": "d10d67d4",
   "metadata": {},
   "source": [
    "A váriavel indica os ponto de vida da carta."
   ]
  },
  {
   "cell_type": "code",
   "execution_count": 18,
   "id": "5bddc577",
   "metadata": {},
   "outputs": [
    {
     "data": {
      "text/plain": [
       "<Figure size 720x432 with 0 Axes>"
      ]
     },
     "metadata": {},
     "output_type": "display_data"
    },
    {
     "data": {
      "image/png": "[encoded data removed]",
      "text/plain": [
       "<Figure size 360x360 with 1 Axes>"
      ]
     },
     "metadata": {
      "needs_background": "light"
     },
     "output_type": "display_data"
    }
   ],
   "source": [
    "plt.figure(figsize=(10,6))\n",
    "sns.displot(df, x=\"health\")\n",
    "plt.title(\"Distribuição da váriavel health\")\n",
    "plt.show()"
   ]
  },
  {
   "cell_type": "code",
   "execution_count": 19,
   "id": "0ba8f60f",
   "metadata": {},
   "outputs": [
    {
     "name": "stderr",
     "output_type": "stream",
     "text": [
      "/opt/anaconda3/envs/guca/lib/python3.8/site-packages/seaborn/_decorators.py:36: FutureWarning: Pass the following variable as a keyword arg: x. From version 0.12, the only valid positional argument will be `data`, and passing other arguments without an explicit keyword will result in an error or misinterpretation.\n",
      "  warnings.warn(\n"
     ]
    },
    {
     "data": {
      "image/png": "[encoded data removed]",
      "text/plain": [
       "<Figure size 720x432 with 1 Axes>"
      ]
     },
     "metadata": {
      "needs_background": "light"
     },
     "output_type": "display_data"
    }
   ],
   "source": [
    "plt.figure(figsize=(10,6))\n",
    "sns.boxplot(df['health'])\n",
    "plt.title(\"Boxplot - Health\")\n",
    "plt.show()"
   ]
  },
  {
   "cell_type": "markdown",
   "id": "ab0a7268",
   "metadata": {},
   "source": [
    "Podemos verificar que a maior parte dos cards 0 a 5 pontos de vida, com a presença de 2 outliers."
   ]
  },
  {
   "cell_type": "code",
   "execution_count": 20,
   "id": "3ef1b2d5",
   "metadata": {},
   "outputs": [
    {
     "data": {
      "text/html": [
       "<div>\n",
       "<style scoped>\n",
       "    .dataframe tbody tr th:only-of-type {\n",
       "        vertical-align: middle;\n",
       "    }\n",
       "\n",
       "    .dataframe tbody tr th {\n",
       "        vertical-align: top;\n",
       "    }\n",
       "\n",
       "    .dataframe thead th {\n",
       "        text-align: right;\n",
       "    }\n",
       "</style>\n",
       "<table border=\"1\" class=\"dataframe\">\n",
       "  <thead>\n",
       "    <tr style=\"text-align: right;\">\n",
       "      <th></th>\n",
       "      <th>type</th>\n",
       "    </tr>\n",
       "    <tr>\n",
       "      <th>type</th>\n",
       "      <th></th>\n",
       "    </tr>\n",
       "  </thead>\n",
       "  <tbody>\n",
       "    <tr>\n",
       "      <th>god power</th>\n",
       "      <td>24</td>\n",
       "    </tr>\n",
       "    <tr>\n",
       "      <th>spell</th>\n",
       "      <td>191</td>\n",
       "    </tr>\n",
       "  </tbody>\n",
       "</table>\n",
       "</div>"
      ],
      "text/plain": [
       "           type\n",
       "type           \n",
       "god power    24\n",
       "spell       191"
      ]
     },
     "execution_count": 20,
     "metadata": {},
     "output_type": "execute_result"
    }
   ],
   "source": [
    "df_health_0 = df[df[\"health\"] == 0]\n",
    "df_health_0.groupby(\"type\")\\\n",
    "           .agg({\"type\": \"count\"})"
   ]
  },
  {
   "cell_type": "code",
   "execution_count": 21,
   "id": "7242beee",
   "metadata": {},
   "outputs": [
    {
     "data": {
      "text/html": [
       "<div>\n",
       "<style scoped>\n",
       "    .dataframe tbody tr th:only-of-type {\n",
       "        vertical-align: middle;\n",
       "    }\n",
       "\n",
       "    .dataframe tbody tr th {\n",
       "        vertical-align: top;\n",
       "    }\n",
       "\n",
       "    .dataframe thead th {\n",
       "        text-align: right;\n",
       "    }\n",
       "</style>\n",
       "<table border=\"1\" class=\"dataframe\">\n",
       "  <thead>\n",
       "    <tr style=\"text-align: right;\">\n",
       "      <th></th>\n",
       "      <th>type</th>\n",
       "    </tr>\n",
       "    <tr>\n",
       "      <th>type</th>\n",
       "      <th></th>\n",
       "    </tr>\n",
       "  </thead>\n",
       "  <tbody>\n",
       "    <tr>\n",
       "      <th>god power</th>\n",
       "      <td>24</td>\n",
       "    </tr>\n",
       "    <tr>\n",
       "      <th>spell</th>\n",
       "      <td>191</td>\n",
       "    </tr>\n",
       "  </tbody>\n",
       "</table>\n",
       "</div>"
      ],
      "text/plain": [
       "           type\n",
       "type           \n",
       "god power    24\n",
       "spell       191"
      ]
     },
     "execution_count": 21,
     "metadata": {},
     "output_type": "execute_result"
    }
   ],
   "source": [
    "df[df[\"type\"].isin([\"god power\", \"spell\"])]\\\n",
    "             .groupby(\"type\")\\\n",
    "             .agg({\"type\": \"count\"})"
   ]
  },
  {
   "cell_type": "markdown",
   "id": "01cf4d90",
   "metadata": {},
   "source": [
    "Os cards que possuem 0 de vida são os god powers e spells."
   ]
  },
  {
   "cell_type": "code",
   "execution_count": 22,
   "id": "3eef3a0d",
   "metadata": {},
   "outputs": [
    {
     "data": {
      "text/html": [
       "<div>\n",
       "<style scoped>\n",
       "    .dataframe tbody tr th:only-of-type {\n",
       "        vertical-align: middle;\n",
       "    }\n",
       "\n",
       "    .dataframe tbody tr th {\n",
       "        vertical-align: top;\n",
       "    }\n",
       "\n",
       "    .dataframe thead th {\n",
       "        text-align: right;\n",
       "    }\n",
       "</style>\n",
       "<table border=\"1\" class=\"dataframe\">\n",
       "  <thead>\n",
       "    <tr style=\"text-align: right;\">\n",
       "      <th></th>\n",
       "      <th>id</th>\n",
       "      <th>name</th>\n",
       "      <th>mana</th>\n",
       "      <th>attack</th>\n",
       "      <th>health</th>\n",
       "      <th>type</th>\n",
       "      <th>god</th>\n",
       "      <th>strategy</th>\n",
       "    </tr>\n",
       "  </thead>\n",
       "  <tbody>\n",
       "    <tr>\n",
       "      <th>65</th>\n",
       "      <td>259</td>\n",
       "      <td>Warden of Kauket</td>\n",
       "      <td>8</td>\n",
       "      <td>3</td>\n",
       "      <td>12</td>\n",
       "      <td>creature</td>\n",
       "      <td>neutral</td>\n",
       "      <td>late</td>\n",
       "    </tr>\n",
       "    <tr>\n",
       "      <th>76</th>\n",
       "      <td>906</td>\n",
       "      <td>Guardian of the Underworld</td>\n",
       "      <td>8</td>\n",
       "      <td>13</td>\n",
       "      <td>17</td>\n",
       "      <td>creature</td>\n",
       "      <td>death</td>\n",
       "      <td>late</td>\n",
       "    </tr>\n",
       "    <tr>\n",
       "      <th>671</th>\n",
       "      <td>1108</td>\n",
       "      <td>Ladon, Uclid Dragon</td>\n",
       "      <td>8</td>\n",
       "      <td>12</td>\n",
       "      <td>12</td>\n",
       "      <td>creature</td>\n",
       "      <td>neutral</td>\n",
       "      <td>late</td>\n",
       "    </tr>\n",
       "    <tr>\n",
       "      <th>727</th>\n",
       "      <td>1086</td>\n",
       "      <td>Helian Elite</td>\n",
       "      <td>8</td>\n",
       "      <td>10</td>\n",
       "      <td>12</td>\n",
       "      <td>creature</td>\n",
       "      <td>neutral</td>\n",
       "      <td>late</td>\n",
       "    </tr>\n",
       "  </tbody>\n",
       "</table>\n",
       "</div>"
      ],
      "text/plain": [
       "       id                        name  mana  attack  health      type  \\\n",
       "65    259            Warden of Kauket     8       3      12  creature   \n",
       "76    906  Guardian of the Underworld     8      13      17  creature   \n",
       "671  1108         Ladon, Uclid Dragon     8      12      12  creature   \n",
       "727  1086                Helian Elite     8      10      12  creature   \n",
       "\n",
       "         god strategy  \n",
       "65   neutral     late  \n",
       "76     death     late  \n",
       "671  neutral     late  \n",
       "727  neutral     late  "
      ]
     },
     "execution_count": 22,
     "metadata": {},
     "output_type": "execute_result"
    }
   ],
   "source": [
    "df[df[\"health\"] > 10]"
   ]
  },
  {
   "cell_type": "markdown",
   "id": "404d6a40",
   "metadata": {},
   "source": [
    "### Health vs Strategy"
   ]
  },
  {
   "cell_type": "code",
   "execution_count": 23,
   "id": "6af53bd6",
   "metadata": {},
   "outputs": [
    {
     "data": {
      "text/plain": [
       "<Figure size 720x432 with 0 Axes>"
      ]
     },
     "metadata": {},
     "output_type": "display_data"
    },
    {
     "data": {
      "image/png": "[encoded data removed]",
      "text/plain": [
       "<Figure size 421.125x360 with 1 Axes>"
      ]
     },
     "metadata": {
      "needs_background": "light"
     },
     "output_type": "display_data"
    }
   ],
   "source": [
    "plt.figure(figsize=(10,6))\n",
    "sns.displot(df, x=\"health\", hue=\"strategy\")\n",
    "plt.title(\"Health vs Strategy\")\n",
    "plt.show()"
   ]
  },
  {
   "cell_type": "code",
   "execution_count": 24,
   "id": "329e1b8f",
   "metadata": {},
   "outputs": [
    {
     "data": {
      "text/html": [
       "<div>\n",
       "<style scoped>\n",
       "    .dataframe tbody tr th:only-of-type {\n",
       "        vertical-align: middle;\n",
       "    }\n",
       "\n",
       "    .dataframe tbody tr th {\n",
       "        vertical-align: top;\n",
       "    }\n",
       "\n",
       "    .dataframe thead tr th {\n",
       "        text-align: left;\n",
       "    }\n",
       "\n",
       "    .dataframe thead tr:last-of-type th {\n",
       "        text-align: right;\n",
       "    }\n",
       "</style>\n",
       "<table border=\"1\" class=\"dataframe\">\n",
       "  <thead>\n",
       "    <tr>\n",
       "      <th></th>\n",
       "      <th colspan=\"4\" halign=\"left\">health</th>\n",
       "    </tr>\n",
       "    <tr>\n",
       "      <th></th>\n",
       "      <th>mean</th>\n",
       "      <th>median</th>\n",
       "      <th>min</th>\n",
       "      <th>max</th>\n",
       "    </tr>\n",
       "    <tr>\n",
       "      <th>strategy</th>\n",
       "      <th></th>\n",
       "      <th></th>\n",
       "      <th></th>\n",
       "      <th></th>\n",
       "    </tr>\n",
       "  </thead>\n",
       "  <tbody>\n",
       "    <tr>\n",
       "      <th>early</th>\n",
       "      <td>1.030093</td>\n",
       "      <td>1.0</td>\n",
       "      <td>0</td>\n",
       "      <td>6</td>\n",
       "    </tr>\n",
       "    <tr>\n",
       "      <th>late</th>\n",
       "      <td>4.469101</td>\n",
       "      <td>4.0</td>\n",
       "      <td>0</td>\n",
       "      <td>17</td>\n",
       "    </tr>\n",
       "  </tbody>\n",
       "</table>\n",
       "</div>"
      ],
      "text/plain": [
       "            health               \n",
       "              mean median min max\n",
       "strategy                         \n",
       "early     1.030093    1.0   0   6\n",
       "late      4.469101    4.0   0  17"
      ]
     },
     "execution_count": 24,
     "metadata": {},
     "output_type": "execute_result"
    }
   ],
   "source": [
    "df.groupby([\"strategy\"])\\\n",
    "  .agg({\"health\": [\"mean\", \"median\", \"min\", \"max\"]})"
   ]
  },
  {
   "cell_type": "markdown",
   "id": "6c1610ea",
   "metadata": {},
   "source": [
    "Podemos perceber que quanto menor a vida mais chances de ser early e quanto maior a vida mais chances de ser late."
   ]
  },
  {
   "cell_type": "markdown",
   "id": "0c377580",
   "metadata": {},
   "source": [
    "## Váriaveis Categóricas <a name=\"cat_vars\"></a>"
   ]
  },
  {
   "cell_type": "markdown",
   "id": "2469af0f",
   "metadata": {},
   "source": [
    "Agora a exploração das váriaveis Categóricas."
   ]
  },
  {
   "cell_type": "markdown",
   "id": "45c55eed",
   "metadata": {},
   "source": [
    "## Type <a name=\"type\"></a>"
   ]
  },
  {
   "cell_type": "markdown",
   "id": "20a24587",
   "metadata": {},
   "source": [
    "A váriavel indica o tipo do card."
   ]
  },
  {
   "cell_type": "code",
   "execution_count": 25,
   "id": "6fb3a397",
   "metadata": {},
   "outputs": [
    {
     "name": "stderr",
     "output_type": "stream",
     "text": [
      "/opt/anaconda3/envs/guca/lib/python3.8/site-packages/seaborn/_decorators.py:36: FutureWarning: Pass the following variable as a keyword arg: x. From version 0.12, the only valid positional argument will be `data`, and passing other arguments without an explicit keyword will result in an error or misinterpretation.\n",
      "  warnings.warn(\n"
     ]
    },
    {
     "data": {
      "image/png": "[encoded data removed]",
      "text/plain": [
       "<Figure size 720x432 with 1 Axes>"
      ]
     },
     "metadata": {
      "needs_background": "light"
     },
     "output_type": "display_data"
    }
   ],
   "source": [
    "plt.figure(figsize=(10,6))\n",
    "sns.countplot(df['type'])\n",
    "plt.title(\"Countplot - Type\")\n",
    "plt.show()"
   ]
  },
  {
   "cell_type": "markdown",
   "id": "9a115950",
   "metadata": {},
   "source": [
    "Podemos perceber que a maior parte dos cards são respectivamente creatures e spells."
   ]
  },
  {
   "cell_type": "markdown",
   "id": "629df756",
   "metadata": {},
   "source": [
    "### Type vs Strategy"
   ]
  },
  {
   "cell_type": "code",
   "execution_count": 26,
   "id": "b00a3a74",
   "metadata": {},
   "outputs": [
    {
     "name": "stderr",
     "output_type": "stream",
     "text": [
      "/opt/anaconda3/envs/guca/lib/python3.8/site-packages/seaborn/_decorators.py:36: FutureWarning: Pass the following variable as a keyword arg: x. From version 0.12, the only valid positional argument will be `data`, and passing other arguments without an explicit keyword will result in an error or misinterpretation.\n",
      "  warnings.warn(\n"
     ]
    },
    {
     "data": {
      "image/png": "[encoded data removed]",
      "text/plain": [
       "<Figure size 720x432 with 1 Axes>"
      ]
     },
     "metadata": {
      "needs_background": "light"
     },
     "output_type": "display_data"
    }
   ],
   "source": [
    "plt.figure(figsize=(10,6))\n",
    "sns.countplot(df['type'], hue=df[\"strategy\"])\n",
    "plt.title(\"Countplot - Type vs Strategy\")\n",
    "plt.show()"
   ]
  },
  {
   "cell_type": "code",
   "execution_count": 27,
   "id": "505ae287",
   "metadata": {},
   "outputs": [
    {
     "data": {
      "text/html": [
       "<div>\n",
       "<style scoped>\n",
       "    .dataframe tbody tr th:only-of-type {\n",
       "        vertical-align: middle;\n",
       "    }\n",
       "\n",
       "    .dataframe tbody tr th {\n",
       "        vertical-align: top;\n",
       "    }\n",
       "\n",
       "    .dataframe thead th {\n",
       "        text-align: right;\n",
       "    }\n",
       "</style>\n",
       "<table border=\"1\" class=\"dataframe\">\n",
       "  <thead>\n",
       "    <tr style=\"text-align: right;\">\n",
       "      <th></th>\n",
       "      <th></th>\n",
       "      <th>type</th>\n",
       "    </tr>\n",
       "    <tr>\n",
       "      <th>type</th>\n",
       "      <th>strategy</th>\n",
       "      <th></th>\n",
       "    </tr>\n",
       "  </thead>\n",
       "  <tbody>\n",
       "    <tr>\n",
       "      <th rowspan=\"2\" valign=\"top\">creature</th>\n",
       "      <th>early</th>\n",
       "      <td>189</td>\n",
       "    </tr>\n",
       "    <tr>\n",
       "      <th>late</th>\n",
       "      <td>337</td>\n",
       "    </tr>\n",
       "    <tr>\n",
       "      <th>god power</th>\n",
       "      <th>early</th>\n",
       "      <td>24</td>\n",
       "    </tr>\n",
       "    <tr>\n",
       "      <th rowspan=\"2\" valign=\"top\">spell</th>\n",
       "      <th>early</th>\n",
       "      <td>186</td>\n",
       "    </tr>\n",
       "    <tr>\n",
       "      <th>late</th>\n",
       "      <td>5</td>\n",
       "    </tr>\n",
       "    <tr>\n",
       "      <th rowspan=\"2\" valign=\"top\">weapon</th>\n",
       "      <th>early</th>\n",
       "      <td>33</td>\n",
       "    </tr>\n",
       "    <tr>\n",
       "      <th>late</th>\n",
       "      <td>14</td>\n",
       "    </tr>\n",
       "  </tbody>\n",
       "</table>\n",
       "</div>"
      ],
      "text/plain": [
       "                    type\n",
       "type      strategy      \n",
       "creature  early      189\n",
       "          late       337\n",
       "god power early       24\n",
       "spell     early      186\n",
       "          late         5\n",
       "weapon    early       33\n",
       "          late        14"
      ]
     },
     "execution_count": 27,
     "metadata": {},
     "output_type": "execute_result"
    }
   ],
   "source": [
    "df.groupby([\"type\", \"strategy\"])\\\n",
    "  .agg({\"type\": \"count\"})"
   ]
  },
  {
   "cell_type": "markdown",
   "id": "18f5ee54",
   "metadata": {},
   "source": [
    "É interessante ver que a maior parte dos cards que são god powers, spells e weapons são de early."
   ]
  },
  {
   "cell_type": "markdown",
   "id": "c196863c",
   "metadata": {},
   "source": [
    "## God <a name=\"god\"></a>"
   ]
  },
  {
   "cell_type": "markdown",
   "id": "b7b18e9f",
   "metadata": {},
   "source": [
    "A váriavel indica o elemento/heroi do card."
   ]
  },
  {
   "cell_type": "code",
   "execution_count": 28,
   "id": "c62a1834",
   "metadata": {},
   "outputs": [
    {
     "name": "stderr",
     "output_type": "stream",
     "text": [
      "/opt/anaconda3/envs/guca/lib/python3.8/site-packages/seaborn/_decorators.py:36: FutureWarning: Pass the following variable as a keyword arg: x. From version 0.12, the only valid positional argument will be `data`, and passing other arguments without an explicit keyword will result in an error or misinterpretation.\n",
      "  warnings.warn(\n"
     ]
    },
    {
     "data": {
      "image/png": "[encoded data removed]",
      "text/plain": [
       "<Figure size 720x432 with 1 Axes>"
      ]
     },
     "metadata": {
      "needs_background": "light"
     },
     "output_type": "display_data"
    }
   ],
   "source": [
    "plt.figure(figsize=(10,6))\n",
    "sns.countplot(df['god'])\n",
    "plt.title(\"Countplot - God\")\n",
    "plt.show()"
   ]
  },
  {
   "cell_type": "markdown",
   "id": "ff160732",
   "metadata": {},
   "source": [
    "Podemos perceber que é bem dividido o número de cards para cada God."
   ]
  },
  {
   "cell_type": "markdown",
   "id": "573e3f05",
   "metadata": {},
   "source": [
    "### God vs Strategy"
   ]
  },
  {
   "cell_type": "code",
   "execution_count": 29,
   "id": "d7b0e8d2",
   "metadata": {},
   "outputs": [
    {
     "name": "stderr",
     "output_type": "stream",
     "text": [
      "/opt/anaconda3/envs/guca/lib/python3.8/site-packages/seaborn/_decorators.py:36: FutureWarning: Pass the following variable as a keyword arg: x. From version 0.12, the only valid positional argument will be `data`, and passing other arguments without an explicit keyword will result in an error or misinterpretation.\n",
      "  warnings.warn(\n"
     ]
    },
    {
     "data": {
      "image/png": "[encoded data removed]",
      "text/plain": [
       "<Figure size 720x432 with 1 Axes>"
      ]
     },
     "metadata": {
      "needs_background": "light"
     },
     "output_type": "display_data"
    }
   ],
   "source": [
    "plt.figure(figsize=(10,6))\n",
    "sns.countplot(df['god'], hue=df[\"strategy\"])\n",
    "plt.title(\"Countplot - God\")\n",
    "plt.show()"
   ]
  },
  {
   "cell_type": "markdown",
   "id": "c064bc11",
   "metadata": {},
   "source": [
    "## Variável Target <a name=\"target_var\"></a>"
   ]
  },
  {
   "cell_type": "code",
   "execution_count": 30,
   "id": "adb4ced4",
   "metadata": {},
   "outputs": [
    {
     "name": "stderr",
     "output_type": "stream",
     "text": [
      "/opt/anaconda3/envs/guca/lib/python3.8/site-packages/seaborn/_decorators.py:36: FutureWarning: Pass the following variable as a keyword arg: x. From version 0.12, the only valid positional argument will be `data`, and passing other arguments without an explicit keyword will result in an error or misinterpretation.\n",
      "  warnings.warn(\n"
     ]
    },
    {
     "data": {
      "image/png": "[encoded data removed]",
      "text/plain": [
       "<Figure size 720x432 with 1 Axes>"
      ]
     },
     "metadata": {
      "needs_background": "light"
     },
     "output_type": "display_data"
    }
   ],
   "source": [
    "plt.figure(figsize=(10,6))\n",
    "sns.countplot(df['strategy'])\n",
    "plt.title(\"Countplot - Strategy\")\n",
    "plt.show()"
   ]
  },
  {
   "cell_type": "markdown",
   "id": "60032b07",
   "metadata": {},
   "source": [
    "É possível perceber que as classes do dataset de treinamento estão bem balanceadas."
   ]
  },
  {
   "cell_type": "markdown",
   "id": "583f8831",
   "metadata": {},
   "source": [
    "## Conclusão <a name=\"conclusion\"></a>"
   ]
  },
  {
   "cell_type": "markdown",
   "id": "91de895c",
   "metadata": {},
   "source": [
    "A partir dessa análise podemos chegar as seguintes conclusões. \n",
    "\n",
    "* Podemos afirmar que de fato mana, attack e health influenciam muito na strategia do card.\n",
    "* As cartas de spell e god power são quase em sua maioria de early game.\n",
    "* O tipo de God não influencia tanto na strategia do card.\n",
    "* os cards spells e god powers não possuem attack e health."
   ]
  }
 ],
 "metadata": {
  "kernelspec": {
   "display_name": "Python 3 (ipykernel)",
   "language": "python",
   "name": "python3"
  },
  "language_info": {
   "codemirror_mode": {
    "name": "ipython",
    "version": 3
   },
   "file_extension": ".py",
   "mimetype": "text/x-python",
   "name": "python",
   "nbconvert_exporter": "python",
   "pygments_lexer": "ipython3",
   "version": "3.8.11"
  }
 },
 "nbformat": 4,
 "nbformat_minor": 5
}
